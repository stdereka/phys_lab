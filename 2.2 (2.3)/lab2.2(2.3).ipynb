{
 "cells": [
  {
   "cell_type": "markdown",
   "metadata": {},
   "source": [
    "# Работа 2.2 (2.3). Изучение спектров атома водорода и молекулы йода."
   ]
  },
  {
   "cell_type": "code",
   "execution_count": 18,
   "metadata": {},
   "outputs": [],
   "source": [
    "import pandas as pd\n",
    "import matplotlib\n",
    "import matplotlib.pyplot as plt\n",
    "import seaborn as sns\n",
    "import numpy as np\n",
    "import statsmodels.api as sm\n",
    "\n",
    "%matplotlib inline\n",
    "sns.set()"
   ]
  },
  {
   "cell_type": "code",
   "execution_count": 52,
   "metadata": {
    "scrolled": true
   },
   "outputs": [
    {
     "data": {
      "image/png": "[encoded data removed]",
      "text/plain": [
       "<Figure size 432x288 with 1 Axes>"
      ]
     },
     "metadata": {},
     "output_type": "display_data"
    }
   ],
   "source": [
    "fit_data = pd.read_excel(\"fit.xlsx\")\n",
    "X, Y = fit_data[\"gon\"], fit_data[\"lambda\"]\n",
    "plt.plot(X, Y, \"bo\")\n",
    "plt.title(\"Калибровочный график\")\n",
    "plt.xlabel(\"гониометр\")\n",
    "plt.ylabel(\"$\\lambda, \\AA$\")\n",
    "params, cov = np.polyfit(X, Y, 4, full=False, cov=True)\n",
    "fit_curve = np.poly1d(params)\n",
    "inter = np.linspace(250, 2700, 100)\n",
    "plt.plot(inter, fit_curve(inter), \"r\")\n",
    "fit_curve_error = lambda gon: ((gon**4*cov[0][0])**2+(gon**3*cov[1][1])**2+(gon**2*cov[2][2])**2+(gon*cov[3][3])**2+(cov[4][4])**2)**0.5"
   ]
  },
  {
   "cell_type": "code",
   "execution_count": 97,
   "metadata": {},
   "outputs": [
    {
     "name": "stdout",
     "output_type": "stream",
     "text": [
      "Ridberg = 109.8 +- 9.1 см^-1\n"
     ]
    }
   ],
   "source": [
    "H2 = pd.read_excel(\"H2.xlsx\")\n",
    "H2[\"lambda, angstrom\"] = H2[\"gon\"].apply(fit_curve)\n",
    "H2[\"sigma_lambda, angstrom\"] = H2[\"gon\"].apply(fit_curve_error)\n",
    "get_ridberg = lambda L, m: 1/(L*(1/4-1/(m**2)))\n",
    "get_ridberg_err = lambda L, E, m:  E/(L**2*(1/4-1/(m**2)))\n",
    "R = [get_ridberg(L, m)*10e4 for L,m in zip(H2[\"lambda, angstrom\"][1:],  [4, 5, 6])]\n",
    "R_err = [get_ridberg_err(L, E, m)*10e4 for L,E,m in zip(H2[\"lambda, angstrom\"][1:], H2[\"sigma_lambda, angstrom\"][1:] , [4, 5, 6])]\n",
    "Ridberg = sum(R)/len(R)\n",
    "Ridberg_error = sum(R_err)/len(R_err)\n",
    "print(\"Ridberg = {:.4}\".format(Ridberg), \"+-\", \"{:.2}\".format(Ridberg_error), \"см^-1\")"
   ]
  },
  {
   "cell_type": "code",
   "execution_count": 109,
   "metadata": {},
   "outputs": [
    {
     "name": "stdout",
     "output_type": "stream",
     "text": [
      "ash_nu_2 = -0.011 эВ\n"
     ]
    }
   ],
   "source": [
    "I2 = pd.read_excel(\"I2.xlsx\")\n",
    "I2[\"lambda, angstrom\"] = H2[\"gon\"].apply(fit_curve)\n",
    "I2[\"sigma_lambda, angstrom\"] = H2[\"gon\"].apply(fit_curve_error)\n",
    "ash_nu_2 = ((8e-6)/5)*(1/I2[\"lambda, angstrom\"][1]-I2[\"lambda, angstrom\"][0])\n",
    "print(\"ash_nu_2 = {:.2}\".format(ash_nu_2), \"эВ\")"
   ]
  },
  {
   "cell_type": "code",
   "execution_count": null,
   "metadata": {},
   "outputs": [],
   "source": []
  }
 ],
 "metadata": {
  "kernelspec": {
   "display_name": "Python 3",
   "language": "python",
   "name": "python3"
  },
  "language_info": {
   "codemirror_mode": {
    "name": "ipython",
    "version": 3
   },
   "file_extension": ".py",
   "mimetype": "text/x-python",
   "name": "python",
   "nbconvert_exporter": "python",
   "pygments_lexer": "ipython3",
   "version": "3.6.6"
  }
 },
 "nbformat": 4,
 "nbformat_minor": 2
}
